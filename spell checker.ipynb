{
 "cells": [
  {
   "cell_type": "code",
   "execution_count": 2,
   "id": "44ea8f0c",
   "metadata": {
    "scrolled": true
   },
   "outputs": [],
   "source": [
    "import re\n",
    "from tqdm import tqdm\n",
    "import pandas as pd"
   ]
  },
  {
   "cell_type": "code",
   "execution_count": 39,
   "id": "15efb96a",
   "metadata": {
    "scrolled": false
   },
   "outputs": [
    {
     "name": "stdout",
     "output_type": "stream",
     "text": [
      "142954\n",
      "11874\n"
     ]
    }
   ],
   "source": [
    "with open('The Project Gutenberg.txt','r', encoding='utf-8') as fd:\n",
    "    lines = fd.readlines()\n",
    "    words = []\n",
    "    for line in lines:\n",
    "        words += re.findall('\\w+', line.lower())\n",
    "        \n",
    "print(len(words))\n",
    "vocab=list(set(words))\n",
    "print(len(vocab))"
   ]
  },
  {
   "cell_type": "code",
   "execution_count": 4,
   "id": "762f296d",
   "metadata": {},
   "outputs": [
    {
     "name": "stderr",
     "output_type": "stream",
     "text": [
      "100%|███████████████████████████████████████████████████████████████████████████| 11874/11874 [01:08<00:00, 174.17it/s]\n"
     ]
    }
   ],
   "source": [
    "word_probability={}\n",
    "\n",
    "for word in tqdm(vocab):\n",
    "    word_probability[word]=float(words.count(word)/len(words))\n"
   ]
  },
  {
   "cell_type": "code",
   "execution_count": 16,
   "id": "3d37eb3d",
   "metadata": {},
   "outputs": [
    {
     "data": {
      "text/plain": [
       "[('', 'yash'), ('y', 'ash'), ('ya', 'sh'), ('yas', 'h'), ('yash', '')]"
      ]
     },
     "execution_count": 16,
     "metadata": {},
     "output_type": "execute_result"
    }
   ],
   "source": [
    "def split(word):\n",
    "    parts=[]\n",
    "\n",
    "    for i in range(len(word)+1):\n",
    "        parts+=[(word[:i],word[i:])]\n",
    "    return parts\n",
    "split('yash')"
   ]
  },
  {
   "cell_type": "code",
   "execution_count": 17,
   "id": "f846410a",
   "metadata": {},
   "outputs": [
    {
     "data": {
      "text/plain": [
       "['ash', 'ysh', 'yah', 'yas', 'yash']"
      ]
     },
     "execution_count": 17,
     "metadata": {},
     "output_type": "execute_result"
    }
   ],
   "source": [
    " def delete(word):\n",
    "    output=[]\n",
    "    for l,r in split(word):\n",
    "        output.append(l+r[1:])\n",
    "    return output\n",
    "delete('yash')"
   ]
  },
  {
   "cell_type": "code",
   "execution_count": 18,
   "id": "108116ad",
   "metadata": {},
   "outputs": [
    {
     "data": {
      "text/plain": [
       "['aysh', 'ysah', 'yahs']"
      ]
     },
     "execution_count": 18,
     "metadata": {},
     "output_type": "execute_result"
    }
   ],
   "source": [
    "def swap(word):\n",
    "    output=[]\n",
    "    for l,r in split(word):\n",
    "        if(len(r)>1):\n",
    "            output.append(l+r[1]+r[0]+r[2:])\n",
    "    return output\n",
    "swap('yash')"
   ]
  },
  {
   "cell_type": "code",
   "execution_count": 19,
   "id": "fce7343b",
   "metadata": {},
   "outputs": [
    {
     "data": {
      "text/plain": [
       "['aash',\n",
       " 'bash',\n",
       " 'cash',\n",
       " 'dash',\n",
       " 'eash',\n",
       " 'fash',\n",
       " 'gash',\n",
       " 'hash',\n",
       " 'iash',\n",
       " 'jash',\n",
       " 'kash',\n",
       " 'lash',\n",
       " 'mash',\n",
       " 'nash',\n",
       " 'oash',\n",
       " 'pash',\n",
       " 'qash',\n",
       " 'rash',\n",
       " 'sash',\n",
       " 'tash',\n",
       " 'uash',\n",
       " 'vash',\n",
       " 'wash',\n",
       " 'xash',\n",
       " 'yash',\n",
       " 'zash',\n",
       " 'yash',\n",
       " 'ybsh',\n",
       " 'ycsh',\n",
       " 'ydsh',\n",
       " 'yesh',\n",
       " 'yfsh',\n",
       " 'ygsh',\n",
       " 'yhsh',\n",
       " 'yish',\n",
       " 'yjsh',\n",
       " 'yksh',\n",
       " 'ylsh',\n",
       " 'ymsh',\n",
       " 'ynsh',\n",
       " 'yosh',\n",
       " 'ypsh',\n",
       " 'yqsh',\n",
       " 'yrsh',\n",
       " 'yssh',\n",
       " 'ytsh',\n",
       " 'yush',\n",
       " 'yvsh',\n",
       " 'ywsh',\n",
       " 'yxsh',\n",
       " 'yysh',\n",
       " 'yzsh',\n",
       " 'yaah',\n",
       " 'yabh',\n",
       " 'yach',\n",
       " 'yadh',\n",
       " 'yaeh',\n",
       " 'yafh',\n",
       " 'yagh',\n",
       " 'yahh',\n",
       " 'yaih',\n",
       " 'yajh',\n",
       " 'yakh',\n",
       " 'yalh',\n",
       " 'yamh',\n",
       " 'yanh',\n",
       " 'yaoh',\n",
       " 'yaph',\n",
       " 'yaqh',\n",
       " 'yarh',\n",
       " 'yash',\n",
       " 'yath',\n",
       " 'yauh',\n",
       " 'yavh',\n",
       " 'yawh',\n",
       " 'yaxh',\n",
       " 'yayh',\n",
       " 'yazh',\n",
       " 'yasa',\n",
       " 'yasb',\n",
       " 'yasc',\n",
       " 'yasd',\n",
       " 'yase',\n",
       " 'yasf',\n",
       " 'yasg',\n",
       " 'yash',\n",
       " 'yasi',\n",
       " 'yasj',\n",
       " 'yask',\n",
       " 'yasl',\n",
       " 'yasm',\n",
       " 'yasn',\n",
       " 'yaso',\n",
       " 'yasp',\n",
       " 'yasq',\n",
       " 'yasr',\n",
       " 'yass',\n",
       " 'yast',\n",
       " 'yasu',\n",
       " 'yasv',\n",
       " 'yasw',\n",
       " 'yasx',\n",
       " 'yasy',\n",
       " 'yasz',\n",
       " 'yasha',\n",
       " 'yashb',\n",
       " 'yashc',\n",
       " 'yashd',\n",
       " 'yashe',\n",
       " 'yashf',\n",
       " 'yashg',\n",
       " 'yashh',\n",
       " 'yashi',\n",
       " 'yashj',\n",
       " 'yashk',\n",
       " 'yashl',\n",
       " 'yashm',\n",
       " 'yashn',\n",
       " 'yasho',\n",
       " 'yashp',\n",
       " 'yashq',\n",
       " 'yashr',\n",
       " 'yashs',\n",
       " 'yasht',\n",
       " 'yashu',\n",
       " 'yashv',\n",
       " 'yashw',\n",
       " 'yashx',\n",
       " 'yashy',\n",
       " 'yashz']"
      ]
     },
     "execution_count": 19,
     "metadata": {},
     "output_type": "execute_result"
    }
   ],
   "source": [
    "def replace(word):\n",
    "    \n",
    "    characters='abcdefghijklmnopqrstuvwxyz'\n",
    "    output=[]\n",
    "    for l,r in split(word):\n",
    "        for char in characters:\n",
    "            output.append(l+char +r[1:])\n",
    "    return output\n",
    "replace('yash')"
   ]
  },
  {
   "cell_type": "code",
   "execution_count": 20,
   "id": "ca42aa87",
   "metadata": {},
   "outputs": [
    {
     "data": {
      "text/plain": [
       "['ayash',\n",
       " 'byash',\n",
       " 'cyash',\n",
       " 'dyash',\n",
       " 'eyash',\n",
       " 'fyash',\n",
       " 'gyash',\n",
       " 'hyash',\n",
       " 'iyash',\n",
       " 'jyash',\n",
       " 'kyash',\n",
       " 'lyash',\n",
       " 'myash',\n",
       " 'nyash',\n",
       " 'oyash',\n",
       " 'pyash',\n",
       " 'qyash',\n",
       " 'ryash',\n",
       " 'syash',\n",
       " 'tyash',\n",
       " 'uyash',\n",
       " 'vyash',\n",
       " 'wyash',\n",
       " 'xyash',\n",
       " 'yyash',\n",
       " 'zyash',\n",
       " 'yaash',\n",
       " 'ybash',\n",
       " 'ycash',\n",
       " 'ydash',\n",
       " 'yeash',\n",
       " 'yfash',\n",
       " 'ygash',\n",
       " 'yhash',\n",
       " 'yiash',\n",
       " 'yjash',\n",
       " 'ykash',\n",
       " 'ylash',\n",
       " 'ymash',\n",
       " 'ynash',\n",
       " 'yoash',\n",
       " 'ypash',\n",
       " 'yqash',\n",
       " 'yrash',\n",
       " 'ysash',\n",
       " 'ytash',\n",
       " 'yuash',\n",
       " 'yvash',\n",
       " 'ywash',\n",
       " 'yxash',\n",
       " 'yyash',\n",
       " 'yzash',\n",
       " 'yaash',\n",
       " 'yabsh',\n",
       " 'yacsh',\n",
       " 'yadsh',\n",
       " 'yaesh',\n",
       " 'yafsh',\n",
       " 'yagsh',\n",
       " 'yahsh',\n",
       " 'yaish',\n",
       " 'yajsh',\n",
       " 'yaksh',\n",
       " 'yalsh',\n",
       " 'yamsh',\n",
       " 'yansh',\n",
       " 'yaosh',\n",
       " 'yapsh',\n",
       " 'yaqsh',\n",
       " 'yarsh',\n",
       " 'yassh',\n",
       " 'yatsh',\n",
       " 'yaush',\n",
       " 'yavsh',\n",
       " 'yawsh',\n",
       " 'yaxsh',\n",
       " 'yaysh',\n",
       " 'yazsh',\n",
       " 'yasah',\n",
       " 'yasbh',\n",
       " 'yasch',\n",
       " 'yasdh',\n",
       " 'yaseh',\n",
       " 'yasfh',\n",
       " 'yasgh',\n",
       " 'yashh',\n",
       " 'yasih',\n",
       " 'yasjh',\n",
       " 'yaskh',\n",
       " 'yaslh',\n",
       " 'yasmh',\n",
       " 'yasnh',\n",
       " 'yasoh',\n",
       " 'yasph',\n",
       " 'yasqh',\n",
       " 'yasrh',\n",
       " 'yassh',\n",
       " 'yasth',\n",
       " 'yasuh',\n",
       " 'yasvh',\n",
       " 'yaswh',\n",
       " 'yasxh',\n",
       " 'yasyh',\n",
       " 'yaszh',\n",
       " 'yasha',\n",
       " 'yashb',\n",
       " 'yashc',\n",
       " 'yashd',\n",
       " 'yashe',\n",
       " 'yashf',\n",
       " 'yashg',\n",
       " 'yashh',\n",
       " 'yashi',\n",
       " 'yashj',\n",
       " 'yashk',\n",
       " 'yashl',\n",
       " 'yashm',\n",
       " 'yashn',\n",
       " 'yasho',\n",
       " 'yashp',\n",
       " 'yashq',\n",
       " 'yashr',\n",
       " 'yashs',\n",
       " 'yasht',\n",
       " 'yashu',\n",
       " 'yashv',\n",
       " 'yashw',\n",
       " 'yashx',\n",
       " 'yashy',\n",
       " 'yashz']"
      ]
     },
     "execution_count": 20,
     "metadata": {},
     "output_type": "execute_result"
    }
   ],
   "source": [
    "def insert(word):\n",
    "    \n",
    "    characters='abcdefghijklmnopqrstuvwxyz'\n",
    "    output=[]\n",
    "    for l,r in split(word):\n",
    "        for char in characters:\n",
    "            output.append(l+char +r)\n",
    "    return output\n",
    "insert('yash')"
   ]
  },
  {
   "cell_type": "code",
   "execution_count": 10,
   "id": "848d6907",
   "metadata": {},
   "outputs": [],
   "source": [
    "def edit(word):\n",
    "    return set(insert(word)+delete(word)+swap(word)+replace(word))"
   ]
  },
  {
   "cell_type": "code",
   "execution_count": 42,
   "id": "4b9474e2",
   "metadata": {},
   "outputs": [],
   "source": [
    "def spell_check(word):\n",
    "    output=[]\n",
    "    \n",
    "    suggested_word=edit(word)\n",
    "    for wrd in suggested_word:\n",
    "        if wrd in word_probability.keys():\n",
    "            output.append([wrd,word_probability[wrd]])\n",
    "    return  list(pd.DataFrame(output,columns=['word','prob']).sort_values(by='prob',ascending=False)['word'].values)\n"
   ]
  },
  {
   "cell_type": "code",
   "execution_count": 59,
   "id": "0e65a8e4",
   "metadata": {},
   "outputs": [
    {
     "data": {
      "text/plain": [
       "['now', 'how', 'low', 'cows', 'cow', 'bow', 'row', 'co']"
      ]
     },
     "execution_count": 59,
     "metadata": {},
     "output_type": "execute_result"
    }
   ],
   "source": [
    "spell_check('cow')"
   ]
  },
  {
   "cell_type": "code",
   "execution_count": null,
   "id": "3fd71fee",
   "metadata": {},
   "outputs": [],
   "source": []
  },
  {
   "cell_type": "code",
   "execution_count": null,
   "id": "012c514f",
   "metadata": {},
   "outputs": [],
   "source": []
  }
 ],
 "metadata": {
  "kernelspec": {
   "display_name": "Python 3 (ipykernel)",
   "language": "python",
   "name": "python3"
  },
  "language_info": {
   "codemirror_mode": {
    "name": "ipython",
    "version": 3
   },
   "file_extension": ".py",
   "mimetype": "text/x-python",
   "name": "python",
   "nbconvert_exporter": "python",
   "pygments_lexer": "ipython3",
   "version": "3.9.13"
  }
 },
 "nbformat": 4,
 "nbformat_minor": 5
}
